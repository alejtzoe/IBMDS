{
    "nbformat_minor": 1, 
    "cells": [
        {
            "source": "import requests # library to handle requests\nimport pandas as pd # library for data analsysis\nimport numpy as np # library to handle data in a vectorized manner\nimport random # library for random number generation\n!conda install -c conda-forge geopy --yes \nfrom geopy.geocoders import Nominatim # module to convert an address into latitude and longitude values\n# libraries for displaying images\nfrom IPython.display import Image \nfrom IPython.core.display import HTML \n# tranforming json file into a pandas dataframe library\nfrom pandas.io.json import json_normalize\n!conda install -c conda-forge folium=0.5.0 --yes\nimport folium # plotting library\nimport matplotlib.pyplot as plt # plotting library\n# backend for rendering plots within the browser\n%matplotlib inline \nfrom sklearn.cluster import KMeans \nfrom sklearn.datasets.samples_generator import make_blobs\npd.set_option('display.max_columns', None)\npd.set_option('display.max_rows', None)\nimport json # library to handle JSON files\nimport matplotlib.cm as cm\nimport matplotlib.colors as colors\nprint('Libraries imported.')", 
            "cell_type": "code", 
            "execution_count": 1, 
            "outputs": [
                {
                    "output_type": "stream", 
                    "name": "stdout", 
                    "text": "Solving environment: done\n\n## Package Plan ##\n\n  environment location: /opt/conda/envs/Python36\n\n  added / updated specs: \n    - geopy\n\n\nThe following packages will be downloaded:\n\n    package                    |            build\n    ---------------------------|-----------------\n    geographiclib-1.50         |             py_0          34 KB  conda-forge\n    openssl-1.1.1c             |       h516909a_0         2.1 MB  conda-forge\n    geopy-1.20.0               |             py_0          57 KB  conda-forge\n    ca-certificates-2019.9.11  |       hecc5488_0         144 KB  conda-forge\n    certifi-2019.9.11          |           py36_0         147 KB  conda-forge\n    ------------------------------------------------------------\n                                           Total:         2.5 MB\n\nThe following NEW packages will be INSTALLED:\n\n    geographiclib:   1.50-py_0         conda-forge\n    geopy:           1.20.0-py_0       conda-forge\n\nThe following packages will be UPDATED:\n\n    ca-certificates: 2019.8.28-0                   --> 2019.9.11-hecc5488_0 conda-forge\n    certifi:         2019.9.11-py36_0              --> 2019.9.11-py36_0     conda-forge\n\nThe following packages will be DOWNGRADED:\n\n    openssl:         1.1.1d-h7b6447c_2             --> 1.1.1c-h516909a_0    conda-forge\n\n\nDownloading and Extracting Packages\ngeographiclib-1.50   | 34 KB     | ##################################### | 100% \nopenssl-1.1.1c       | 2.1 MB    | ##################################### | 100% \ngeopy-1.20.0         | 57 KB     | ##################################### | 100% \nca-certificates-2019 | 144 KB    | ##################################### | 100% \ncertifi-2019.9.11    | 147 KB    | ##################################### | 100% \nPreparing transaction: done\nVerifying transaction: done\nExecuting transaction: done\nSolving environment: done\n\n## Package Plan ##\n\n  environment location: /opt/conda/envs/Python36\n\n  added / updated specs: \n    - folium=0.5.0\n\n\nThe following packages will be downloaded:\n\n    package                    |            build\n    ---------------------------|-----------------\n    vincent-0.4.4              |             py_1          28 KB  conda-forge\n    folium-0.5.0               |             py_0          45 KB  conda-forge\n    altair-3.2.0               |           py36_0         770 KB  conda-forge\n    branca-0.3.1               |             py_0          25 KB  conda-forge\n    ------------------------------------------------------------\n                                           Total:         868 KB\n\nThe following NEW packages will be INSTALLED:\n\n    altair:  3.2.0-py36_0 conda-forge\n    branca:  0.3.1-py_0   conda-forge\n    folium:  0.5.0-py_0   conda-forge\n    vincent: 0.4.4-py_1   conda-forge\n\n\nDownloading and Extracting Packages\nvincent-0.4.4        | 28 KB     | ##################################### | 100% \nfolium-0.5.0         | 45 KB     | ##################################### | 100% \naltair-3.2.0         | 770 KB    | ##################################### | 100% \nbranca-0.3.1         | 25 KB     | ##################################### | 100% \nPreparing transaction: done\nVerifying transaction: done\nExecuting transaction: done\nLibraries imported.\n"
                }
            ], 
            "metadata": {}
        }, 
        {
            "source": "from bs4 import BeautifulSoup\nimport lxml\nfrom tabulate import tabulate", 
            "cell_type": "code", 
            "execution_count": 7, 
            "outputs": [], 
            "metadata": {}
        }, 
        {
            "source": "res = requests.get(\"https://en.wikipedia.org/wiki/List_of_postal_codes_of_Canada:_M\")\nsoup = BeautifulSoup(res.content,'lxml')\ntable = soup.find_all('table')[0] \ndf = pd.read_html(str(table))\ndf=df[0]\ndf.head()", 
            "cell_type": "code", 
            "execution_count": 25, 
            "outputs": [
                {
                    "output_type": "execute_result", 
                    "metadata": {}, 
                    "data": {
                        "text/html": "<div>\n<style scoped>\n    .dataframe tbody tr th:only-of-type {\n        vertical-align: middle;\n    }\n\n    .dataframe tbody tr th {\n        vertical-align: top;\n    }\n\n    .dataframe thead th {\n        text-align: right;\n    }\n</style>\n<table border=\"1\" class=\"dataframe\">\n  <thead>\n    <tr style=\"text-align: right;\">\n      <th></th>\n      <th>Postcode</th>\n      <th>Borough</th>\n      <th>Neighbourhood</th>\n    </tr>\n  </thead>\n  <tbody>\n    <tr>\n      <th>0</th>\n      <td>M1A</td>\n      <td>Not assigned</td>\n      <td>Not assigned</td>\n    </tr>\n    <tr>\n      <th>1</th>\n      <td>M2A</td>\n      <td>Not assigned</td>\n      <td>Not assigned</td>\n    </tr>\n    <tr>\n      <th>2</th>\n      <td>M3A</td>\n      <td>North York</td>\n      <td>Parkwoods</td>\n    </tr>\n    <tr>\n      <th>3</th>\n      <td>M4A</td>\n      <td>North York</td>\n      <td>Victoria Village</td>\n    </tr>\n    <tr>\n      <th>4</th>\n      <td>M5A</td>\n      <td>Downtown Toronto</td>\n      <td>Harbourfront</td>\n    </tr>\n  </tbody>\n</table>\n</div>", 
                        "text/plain": "  Postcode           Borough     Neighbourhood\n0      M1A      Not assigned      Not assigned\n1      M2A      Not assigned      Not assigned\n2      M3A        North York         Parkwoods\n3      M4A        North York  Victoria Village\n4      M5A  Downtown Toronto      Harbourfront"
                    }, 
                    "execution_count": 25
                }
            ], 
            "metadata": {}
        }, 
        {
            "source": "df.drop(df[df['Borough'] == \"Not assigned\" ].index , inplace=True)\ndf.head()", 
            "cell_type": "code", 
            "execution_count": 26, 
            "outputs": [
                {
                    "output_type": "execute_result", 
                    "metadata": {}, 
                    "data": {
                        "text/html": "<div>\n<style scoped>\n    .dataframe tbody tr th:only-of-type {\n        vertical-align: middle;\n    }\n\n    .dataframe tbody tr th {\n        vertical-align: top;\n    }\n\n    .dataframe thead th {\n        text-align: right;\n    }\n</style>\n<table border=\"1\" class=\"dataframe\">\n  <thead>\n    <tr style=\"text-align: right;\">\n      <th></th>\n      <th>Postcode</th>\n      <th>Borough</th>\n      <th>Neighbourhood</th>\n    </tr>\n  </thead>\n  <tbody>\n    <tr>\n      <th>2</th>\n      <td>M3A</td>\n      <td>North York</td>\n      <td>Parkwoods</td>\n    </tr>\n    <tr>\n      <th>3</th>\n      <td>M4A</td>\n      <td>North York</td>\n      <td>Victoria Village</td>\n    </tr>\n    <tr>\n      <th>4</th>\n      <td>M5A</td>\n      <td>Downtown Toronto</td>\n      <td>Harbourfront</td>\n    </tr>\n    <tr>\n      <th>5</th>\n      <td>M5A</td>\n      <td>Downtown Toronto</td>\n      <td>Regent Park</td>\n    </tr>\n    <tr>\n      <th>6</th>\n      <td>M6A</td>\n      <td>North York</td>\n      <td>Lawrence Heights</td>\n    </tr>\n  </tbody>\n</table>\n</div>", 
                        "text/plain": "  Postcode           Borough     Neighbourhood\n2      M3A        North York         Parkwoods\n3      M4A        North York  Victoria Village\n4      M5A  Downtown Toronto      Harbourfront\n5      M5A  Downtown Toronto       Regent Park\n6      M6A        North York  Lawrence Heights"
                    }, 
                    "execution_count": 26
                }
            ], 
            "metadata": {}
        }, 
        {
            "source": "df[df[\"Neighbourhood\"] == \"Not assigned\"]", 
            "cell_type": "code", 
            "execution_count": 28, 
            "outputs": [
                {
                    "output_type": "execute_result", 
                    "metadata": {}, 
                    "data": {
                        "text/html": "<div>\n<style scoped>\n    .dataframe tbody tr th:only-of-type {\n        vertical-align: middle;\n    }\n\n    .dataframe tbody tr th {\n        vertical-align: top;\n    }\n\n    .dataframe thead th {\n        text-align: right;\n    }\n</style>\n<table border=\"1\" class=\"dataframe\">\n  <thead>\n    <tr style=\"text-align: right;\">\n      <th></th>\n      <th>Postcode</th>\n      <th>Borough</th>\n      <th>Neighbourhood</th>\n    </tr>\n  </thead>\n  <tbody>\n    <tr>\n      <th>8</th>\n      <td>M7A</td>\n      <td>Queen's Park</td>\n      <td>Not assigned</td>\n    </tr>\n  </tbody>\n</table>\n</div>", 
                        "text/plain": "  Postcode       Borough Neighbourhood\n8      M7A  Queen's Park  Not assigned"
                    }, 
                    "execution_count": 28
                }
            ], 
            "metadata": {}
        }, 
        {
            "source": "df['Neighbourhood'].replace('Not assigned', \"Queen's Park\", inplace=True)", 
            "cell_type": "code", 
            "execution_count": 29, 
            "outputs": [], 
            "metadata": {}
        }, 
        {
            "source": "df = df.groupby(['Postcode', 'Borough'])['Neighbourhood'].apply(', '.join).reset_index()\ndf.rename(columns={'Postcode':'Postalcode'}, inplace=True)\ndf.head()", 
            "cell_type": "code", 
            "execution_count": 43, 
            "outputs": [
                {
                    "output_type": "execute_result", 
                    "metadata": {}, 
                    "data": {
                        "text/html": "<div>\n<style scoped>\n    .dataframe tbody tr th:only-of-type {\n        vertical-align: middle;\n    }\n\n    .dataframe tbody tr th {\n        vertical-align: top;\n    }\n\n    .dataframe thead th {\n        text-align: right;\n    }\n</style>\n<table border=\"1\" class=\"dataframe\">\n  <thead>\n    <tr style=\"text-align: right;\">\n      <th></th>\n      <th>Postalcode</th>\n      <th>Borough</th>\n      <th>Neighbourhood</th>\n    </tr>\n  </thead>\n  <tbody>\n    <tr>\n      <th>0</th>\n      <td>M1B</td>\n      <td>Scarborough</td>\n      <td>Rouge, Malvern</td>\n    </tr>\n    <tr>\n      <th>1</th>\n      <td>M1C</td>\n      <td>Scarborough</td>\n      <td>Highland Creek, Rouge Hill, Port Union</td>\n    </tr>\n    <tr>\n      <th>2</th>\n      <td>M1E</td>\n      <td>Scarborough</td>\n      <td>Guildwood, Morningside, West Hill</td>\n    </tr>\n    <tr>\n      <th>3</th>\n      <td>M1G</td>\n      <td>Scarborough</td>\n      <td>Woburn</td>\n    </tr>\n    <tr>\n      <th>4</th>\n      <td>M1H</td>\n      <td>Scarborough</td>\n      <td>Cedarbrae</td>\n    </tr>\n  </tbody>\n</table>\n</div>", 
                        "text/plain": "  Postalcode      Borough                           Neighbourhood\n0        M1B  Scarborough                          Rouge, Malvern\n1        M1C  Scarborough  Highland Creek, Rouge Hill, Port Union\n2        M1E  Scarborough       Guildwood, Morningside, West Hill\n3        M1G  Scarborough                                  Woburn\n4        M1H  Scarborough                               Cedarbrae"
                    }, 
                    "execution_count": 43
                }
            ], 
            "metadata": {}
        }, 
        {
            "source": "df.shape", 
            "cell_type": "code", 
            "execution_count": 44, 
            "outputs": [
                {
                    "output_type": "execute_result", 
                    "metadata": {}, 
                    "data": {
                        "text/plain": "(103, 3)"
                    }, 
                    "execution_count": 44
                }
            ], 
            "metadata": {}
        }, 
        {
            "source": "geo=pd.read_csv(\"http://cocl.us/Geospatial_data\")\ngeo.rename(columns={'Postal Code':'Postalcode'}, inplace=True)\ngeo.set_index(\"Postalcode\")\n#geo.head(20)\ndf2=pd.merge(df, geo)\ndf2.head(20)", 
            "cell_type": "code", 
            "execution_count": 50, 
            "outputs": [
                {
                    "output_type": "execute_result", 
                    "metadata": {}, 
                    "data": {
                        "text/html": "<div>\n<style scoped>\n    .dataframe tbody tr th:only-of-type {\n        vertical-align: middle;\n    }\n\n    .dataframe tbody tr th {\n        vertical-align: top;\n    }\n\n    .dataframe thead th {\n        text-align: right;\n    }\n</style>\n<table border=\"1\" class=\"dataframe\">\n  <thead>\n    <tr style=\"text-align: right;\">\n      <th></th>\n      <th>Postalcode</th>\n      <th>Borough</th>\n      <th>Neighbourhood</th>\n      <th>Latitude</th>\n      <th>Longitude</th>\n    </tr>\n  </thead>\n  <tbody>\n    <tr>\n      <th>0</th>\n      <td>M1B</td>\n      <td>Scarborough</td>\n      <td>Rouge, Malvern</td>\n      <td>43.806686</td>\n      <td>-79.194353</td>\n    </tr>\n    <tr>\n      <th>1</th>\n      <td>M1C</td>\n      <td>Scarborough</td>\n      <td>Highland Creek, Rouge Hill, Port Union</td>\n      <td>43.784535</td>\n      <td>-79.160497</td>\n    </tr>\n    <tr>\n      <th>2</th>\n      <td>M1E</td>\n      <td>Scarborough</td>\n      <td>Guildwood, Morningside, West Hill</td>\n      <td>43.763573</td>\n      <td>-79.188711</td>\n    </tr>\n    <tr>\n      <th>3</th>\n      <td>M1G</td>\n      <td>Scarborough</td>\n      <td>Woburn</td>\n      <td>43.770992</td>\n      <td>-79.216917</td>\n    </tr>\n    <tr>\n      <th>4</th>\n      <td>M1H</td>\n      <td>Scarborough</td>\n      <td>Cedarbrae</td>\n      <td>43.773136</td>\n      <td>-79.239476</td>\n    </tr>\n    <tr>\n      <th>5</th>\n      <td>M1J</td>\n      <td>Scarborough</td>\n      <td>Scarborough Village</td>\n      <td>43.744734</td>\n      <td>-79.239476</td>\n    </tr>\n    <tr>\n      <th>6</th>\n      <td>M1K</td>\n      <td>Scarborough</td>\n      <td>East Birchmount Park, Ionview, Kennedy Park</td>\n      <td>43.727929</td>\n      <td>-79.262029</td>\n    </tr>\n    <tr>\n      <th>7</th>\n      <td>M1L</td>\n      <td>Scarborough</td>\n      <td>Clairlea, Golden Mile, Oakridge</td>\n      <td>43.711112</td>\n      <td>-79.284577</td>\n    </tr>\n    <tr>\n      <th>8</th>\n      <td>M1M</td>\n      <td>Scarborough</td>\n      <td>Cliffcrest, Cliffside, Scarborough Village West</td>\n      <td>43.716316</td>\n      <td>-79.239476</td>\n    </tr>\n    <tr>\n      <th>9</th>\n      <td>M1N</td>\n      <td>Scarborough</td>\n      <td>Birch Cliff, Cliffside West</td>\n      <td>43.692657</td>\n      <td>-79.264848</td>\n    </tr>\n    <tr>\n      <th>10</th>\n      <td>M1P</td>\n      <td>Scarborough</td>\n      <td>Dorset Park, Scarborough Town Centre, Wexford ...</td>\n      <td>43.757410</td>\n      <td>-79.273304</td>\n    </tr>\n    <tr>\n      <th>11</th>\n      <td>M1R</td>\n      <td>Scarborough</td>\n      <td>Maryvale, Wexford</td>\n      <td>43.750072</td>\n      <td>-79.295849</td>\n    </tr>\n    <tr>\n      <th>12</th>\n      <td>M1S</td>\n      <td>Scarborough</td>\n      <td>Agincourt</td>\n      <td>43.794200</td>\n      <td>-79.262029</td>\n    </tr>\n    <tr>\n      <th>13</th>\n      <td>M1T</td>\n      <td>Scarborough</td>\n      <td>Clarks Corners, Sullivan, Tam O'Shanter</td>\n      <td>43.781638</td>\n      <td>-79.304302</td>\n    </tr>\n    <tr>\n      <th>14</th>\n      <td>M1V</td>\n      <td>Scarborough</td>\n      <td>Agincourt North, L'Amoreaux East, Milliken, St...</td>\n      <td>43.815252</td>\n      <td>-79.284577</td>\n    </tr>\n    <tr>\n      <th>15</th>\n      <td>M1W</td>\n      <td>Scarborough</td>\n      <td>L'Amoreaux West</td>\n      <td>43.799525</td>\n      <td>-79.318389</td>\n    </tr>\n    <tr>\n      <th>16</th>\n      <td>M1X</td>\n      <td>Scarborough</td>\n      <td>Upper Rouge</td>\n      <td>43.836125</td>\n      <td>-79.205636</td>\n    </tr>\n    <tr>\n      <th>17</th>\n      <td>M2H</td>\n      <td>North York</td>\n      <td>Hillcrest Village</td>\n      <td>43.803762</td>\n      <td>-79.363452</td>\n    </tr>\n    <tr>\n      <th>18</th>\n      <td>M2J</td>\n      <td>North York</td>\n      <td>Fairview, Henry Farm, Oriole</td>\n      <td>43.778517</td>\n      <td>-79.346556</td>\n    </tr>\n    <tr>\n      <th>19</th>\n      <td>M2K</td>\n      <td>North York</td>\n      <td>Bayview Village</td>\n      <td>43.786947</td>\n      <td>-79.385975</td>\n    </tr>\n  </tbody>\n</table>\n</div>", 
                        "text/plain": "   Postalcode      Borough                                      Neighbourhood  \\\n0         M1B  Scarborough                                     Rouge, Malvern   \n1         M1C  Scarborough             Highland Creek, Rouge Hill, Port Union   \n2         M1E  Scarborough                  Guildwood, Morningside, West Hill   \n3         M1G  Scarborough                                             Woburn   \n4         M1H  Scarborough                                          Cedarbrae   \n5         M1J  Scarborough                                Scarborough Village   \n6         M1K  Scarborough        East Birchmount Park, Ionview, Kennedy Park   \n7         M1L  Scarborough                    Clairlea, Golden Mile, Oakridge   \n8         M1M  Scarborough    Cliffcrest, Cliffside, Scarborough Village West   \n9         M1N  Scarborough                        Birch Cliff, Cliffside West   \n10        M1P  Scarborough  Dorset Park, Scarborough Town Centre, Wexford ...   \n11        M1R  Scarborough                                  Maryvale, Wexford   \n12        M1S  Scarborough                                          Agincourt   \n13        M1T  Scarborough            Clarks Corners, Sullivan, Tam O'Shanter   \n14        M1V  Scarborough  Agincourt North, L'Amoreaux East, Milliken, St...   \n15        M1W  Scarborough                                    L'Amoreaux West   \n16        M1X  Scarborough                                        Upper Rouge   \n17        M2H   North York                                  Hillcrest Village   \n18        M2J   North York                       Fairview, Henry Farm, Oriole   \n19        M2K   North York                                    Bayview Village   \n\n     Latitude  Longitude  \n0   43.806686 -79.194353  \n1   43.784535 -79.160497  \n2   43.763573 -79.188711  \n3   43.770992 -79.216917  \n4   43.773136 -79.239476  \n5   43.744734 -79.239476  \n6   43.727929 -79.262029  \n7   43.711112 -79.284577  \n8   43.716316 -79.239476  \n9   43.692657 -79.264848  \n10  43.757410 -79.273304  \n11  43.750072 -79.295849  \n12  43.794200 -79.262029  \n13  43.781638 -79.304302  \n14  43.815252 -79.284577  \n15  43.799525 -79.318389  \n16  43.836125 -79.205636  \n17  43.803762 -79.363452  \n18  43.778517 -79.346556  \n19  43.786947 -79.385975  "
                    }, 
                    "execution_count": 50
                }
            ], 
            "metadata": {}
        }, 
        {
            "source": "", 
            "cell_type": "code", 
            "execution_count": null, 
            "outputs": [], 
            "metadata": {}
        }
    ], 
    "nbformat": 4, 
    "metadata": {
        "kernelspec": {
            "display_name": "Python 3.6", 
            "name": "python3", 
            "language": "python"
        }, 
        "language_info": {
            "mimetype": "text/x-python", 
            "nbconvert_exporter": "python", 
            "version": "3.6.8", 
            "name": "python", 
            "pygments_lexer": "ipython3", 
            "file_extension": ".py", 
            "codemirror_mode": {
                "version": 3, 
                "name": "ipython"
            }
        }
    }
}